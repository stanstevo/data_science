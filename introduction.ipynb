{
 "cells": [
  {
   "cell_type": "markdown",
   "metadata": {},
   "source": [
    "# Introduction to Python"
   ]
  },
  {
   "cell_type": "code",
   "execution_count": null,
   "metadata": {},
   "outputs": [],
   "source": []
  },
  {
   "cell_type": "markdown",
   "metadata": {},
   "source": []
  },
  {
   "cell_type": "markdown",
   "metadata": {},
   "source": [
    "![python_logo](logo.jpeg)"
   ]
  },
  {
   "cell_type": "markdown",
   "metadata": {},
   "source": [
    "## Objectives"
   ]
  },
  {
   "cell_type": "markdown",
   "metadata": {},
   "source": [
    "* Understanding Variables\n",
    "* Python Variable Naming Rules\n",
    "* Declaring Variables\n",
    "* Data Types and Type Inference\n",
    "* Variable Assignment\n",
    "* Variable Reassignment\n",
    "* Variable Scope\n",
    "* Best Practices for Variable Usage\n",
    "* Common Mistakes and Troubleshooting\n",
    "* Practical Applications\n",
    "* Exercises and Hands-On Practice"
   ]
  },
  {
   "cell_type": "markdown",
   "metadata": {},
   "source": [
    "## Poetry"
   ]
  },
  {
   "cell_type": "code",
   "execution_count": null,
   "metadata": {},
   "outputs": [],
   "source": [
    "# code goes here"
   ]
  },
  {
   "cell_type": "markdown",
   "metadata": {},
   "source": [
    "## Variables"
   ]
  },
  {
   "cell_type": "markdown",
   "metadata": {},
   "source": [
    "### What is a Variable?"
   ]
  },
  {
   "cell_type": "markdown",
   "metadata": {},
   "source": [
    "* A **variable** is a named storage location used to hold and represent data within a computer program. \n",
    "* It serves as a symbolic representation of a value that can be accessed and manipulated by the program during its execution. \n",
    "* Variables allow programmers to store and manage data of various types, such as *numbers*, *text*, and *objects*, making it easier to perform computations, process information, and control the flow of a program.\n",
    "* When a variable is created, it is allocated a specific memory location in the computer's memory, and the data assigned to that variable is stored at that location. \n",
    "* The value stored in a variable can be changed or updated during the program's execution, which is why the term *variable* is used, as it can vary over time.\n",
    "* Variables play a crucial role in programming, as they enable the reuse and manipulation of data, making code more efficient and flexible."
   ]
  },
  {
   "cell_type": "code",
   "execution_count": null,
   "metadata": {},
   "outputs": [],
   "source": [
    "# code goes here"
   ]
  },
  {
   "cell_type": "markdown",
   "metadata": {},
   "source": [
    "### Importance of variables in storing and managing data during program execution."
   ]
  },
  {
   "cell_type": "markdown",
   "metadata": {},
   "source": [
    "* **Data Storage**: Variables act as containers for holding different types of data, such as numbers, strings, lists, and more"
   ]
  },
  {
   "cell_type": "code",
   "execution_count": null,
   "metadata": {},
   "outputs": [],
   "source": [
    "# code goes here"
   ]
  },
  {
   "cell_type": "markdown",
   "metadata": {},
   "source": [
    "* **Data Manipulation**: By storing data in variables, programmers can easily manipulate and process it."
   ]
  },
  {
   "cell_type": "code",
   "execution_count": null,
   "metadata": {},
   "outputs": [],
   "source": [
    "# code goes here "
   ]
  },
  {
   "cell_type": "markdown",
   "metadata": {},
   "source": [
    "* **Data Reusability**: Once data is stored in variables, it becomes reusable throughout the program. Instead of having to re-enter or recalculate data, variables allow programmers to use the same data multiple times, reducing redundancy and improving code readability."
   ]
  },
  {
   "cell_type": "code",
   "execution_count": null,
   "metadata": {},
   "outputs": [],
   "source": [
    "# code goes here"
   ]
  },
  {
   "cell_type": "markdown",
   "metadata": {},
   "source": [
    "* **Program Flow Control**: Variables are often used in control structures such as loops and conditional statements. "
   ]
  },
  {
   "cell_type": "code",
   "execution_count": null,
   "metadata": {},
   "outputs": [],
   "source": [
    "# codes goes here"
   ]
  },
  {
   "cell_type": "markdown",
   "metadata": {},
   "source": [
    "### Rules for naming variables in Python."
   ]
  },
  {
   "cell_type": "markdown",
   "metadata": {},
   "source": [
    "* **Valid Characters**: Variable names can contain letters ```(a-z, A-Z)```, digits ```(0-9)```, and underscores ```(_)```. They **cannot** start with a digit. For instance, you can call a variable ```message_1``` but not ```1_message```.\n",
    "\n",
    "* **No Special Characters**: Variable names should not include spaces or any special characters like ```!```, ```@```,``` #```,``` $```,``` %```, etc.\n",
    "\n",
    "* **Case-Sensitivity**: Python variable names are case-sensitive, meaning that variables with different letter cases are considered distinct. For example, ```name```, ```Name```, and ```NAME``` are three different variables.\n",
    "\n",
    "* **Reserved Keywords**: Avoid using Python's reserved keywords as variable names, as they have predefined meanings in the language. Some examples of reserved keywords include ```if```, ```else```, ```while```, ```for```, ```def```, ```class```, ```import```, and ```True```.\n",
    "\n",
    "* **Descriptive and Readable**: Choose descriptive and meaningful variable names that convey the purpose or content of the data they store. This improves the code's readability and makes it easier for others (and your future self) to understand the code.\n",
    "\n",
    "* **Snake Case**: In Python, the convention for multi-word variable names is to use snake case, which involves writing all lowercase letters and separating words with underscores. For example, ```user_age```, ```item_list```, and ```total_count``` are all valid snake case variable names.\n",
    "\n",
    "* **Length Limitation**: While Python allows variable names of any length, it's advisable to keep them reasonably concise to avoid excessive typing and enhance code readability."
   ]
  },
  {
   "cell_type": "markdown",
   "metadata": {},
   "source": [
    "### Avoiding Name Errors When Using Variables"
   ]
  },
  {
   "cell_type": "markdown",
   "metadata": {},
   "source": [
    "* Every programmer makes mistakes, and most make mistakes every day.\n",
    "* This Mistakes will results into errors, and good programmers know how to respond to those error efficiently."
   ]
  },
  {
   "cell_type": "code",
   "execution_count": null,
   "metadata": {},
   "outputs": [],
   "source": [
    "# code goes here"
   ]
  },
  {
   "cell_type": "markdown",
   "metadata": {},
   "source": [
    "* Python Interpreter does its best to help you figure out where the problem is by providing a **traceback**.\n",
    "* A *traceback* is a record of where a the interpreter ran into trouble when trying to excute your code.\n",
    "* A **name error** usually means we either forgot to set a variable’s value before using it, or we made a spelling mistake when entering the variable’s name."
   ]
  },
  {
   "cell_type": "markdown",
   "metadata": {},
   "source": [
    "<details>\n",
    "    <summary>📝</summary>\n",
    "\n",
    "    In the whimsical realm of programming, tiny typos and one-character errors amuse even seasoned wizards of code! Like mischievous gremlins, they love to play tricks, leading programmers on wild goose chases. But fear not, for these humorous escapades are a common part of the journey. Embrace the challenge with laughter and patience, celebrating each victory as you outwit those pesky bugs. Picture yourself as a fearless code-warrior, chasing golden snitches in the mystical world of coding. So, laugh it off, for with each typo found, you become a more skilled and resilient programmer. Happy coding, and may the debug force be with you on this enchanting quest! 🚀😄\n",
    "    \n",
    "</details>"
   ]
  },
  {
   "cell_type": "markdown",
   "metadata": {},
   "source": [
    "### Knock yourself out"
   ]
  },
  {
   "cell_type": "markdown",
   "metadata": {},
   "source": [
    "1. Assign a message to a variable, and then print that message.\n",
    "2. Change the value of the variable to a new message, and print the new message."
   ]
  },
  {
   "cell_type": "markdown",
   "metadata": {},
   "source": [
    "## Data Types"
   ]
  },
  {
   "cell_type": "markdown",
   "metadata": {},
   "source": [
    "* **Data types** define the type of data that can be stored in a variable or used in a program. \n",
    "* Each programming language has a set of built-in data types to represent different kinds of values, such as numbers, characters, strings, and more complex structures like arrays and objects. \n",
    "Common data types include ```integers (int)```, ```floating-point numbers (float)```, ```characters (char)```, ```strings (str)```, ```Boolean values (bool)```, and many others. \n",
    "* Data types help determine the operations that can be performed on the data and the amount of memory required to store it."
   ]
  },
  {
   "cell_type": "code",
   "execution_count": null,
   "metadata": {},
   "outputs": [],
   "source": [
    "# code goes here"
   ]
  },
  {
   "cell_type": "markdown",
   "metadata": {},
   "source": [
    "### Strings"
   ]
  },
  {
   "cell_type": "markdown",
   "metadata": {},
   "source": [
    "A **string** is a series of characters. Anything inside quotes is considered a string in Python, and you can use single or double quotes around your strings like this:"
   ]
  },
  {
   "cell_type": "code",
   "execution_count": null,
   "metadata": {},
   "outputs": [],
   "source": [
    "# code goes here"
   ]
  },
  {
   "cell_type": "markdown",
   "metadata": {},
   "source": [
    "* This flexibility allows you to use quotes and apostrophes within your string"
   ]
  },
  {
   "cell_type": "code",
   "execution_count": null,
   "metadata": {},
   "outputs": [],
   "source": [
    "# code goes here"
   ]
  },
  {
   "cell_type": "markdown",
   "metadata": {},
   "source": [
    "#### Changing Case in a string with Methods"
   ]
  },
  {
   "cell_type": "markdown",
   "metadata": {},
   "source": [
    "* One simple task you can do with strings is change the case of the words in a string."
   ]
  },
  {
   "cell_type": "code",
   "execution_count": null,
   "metadata": {},
   "outputs": [],
   "source": [
    "# code goes here"
   ]
  },
  {
   "cell_type": "markdown",
   "metadata": {},
   "source": [
    "* ```title()``` - Changes each word to title case, where each word begins with a capital letter.\n",
    "* ```lower()``` - changes a string to all lowercase.\n",
    "* ```upper()``` -   CHANGES A STRING TO ALL UPPERCASE."
   ]
  },
  {
   "cell_type": "code",
   "execution_count": null,
   "metadata": {},
   "outputs": [],
   "source": [
    "# code goes here "
   ]
  },
  {
   "cell_type": "markdown",
   "metadata": {},
   "source": [
    "#### Using variables in strings"
   ]
  },
  {
   "cell_type": "markdown",
   "metadata": {},
   "source": [
    "* In some situations, you'll want to use a variable's value inside a string."
   ]
  },
  {
   "cell_type": "code",
   "execution_count": null,
   "metadata": {},
   "outputs": [],
   "source": [
    "# code goes here"
   ]
  },
  {
   "cell_type": "markdown",
   "metadata": {},
   "source": [
    "1. ```f-strings``` - Python formats the string by replacing the name of any variable in braces with its value."
   ]
  },
  {
   "cell_type": "code",
   "execution_count": null,
   "metadata": {},
   "outputs": [],
   "source": [
    "# code goes here"
   ]
  },
  {
   "cell_type": "markdown",
   "metadata": {},
   "source": [
    "2. ```format``` - longer version of f-strings."
   ]
  },
  {
   "cell_type": "code",
   "execution_count": null,
   "metadata": {},
   "outputs": [],
   "source": [
    "# code goes here"
   ]
  },
  {
   "cell_type": "markdown",
   "metadata": {},
   "source": [
    "3. ```concatenation``` - using the ```+``` sign to join strings."
   ]
  },
  {
   "cell_type": "code",
   "execution_count": null,
   "metadata": {},
   "outputs": [],
   "source": [
    "# code goes here"
   ]
  },
  {
   "cell_type": "markdown",
   "metadata": {},
   "source": [
    "#### Adding Whitespace to Strings with Tabs or Newlines"
   ]
  },
  {
   "cell_type": "markdown",
   "metadata": {},
   "source": [
    "* **Whitespace** refers to any nonprinting character, such as *spaces*, *tabs*, and *end-of-line symbols*. \n",
    "* Use whitespaces to organize your output so it's easier for users to read."
   ]
  },
  {
   "cell_type": "markdown",
   "metadata": {},
   "source": [
    "1. tab - use character combination ```\\t```."
   ]
  },
  {
   "cell_type": "code",
   "execution_count": null,
   "metadata": {},
   "outputs": [],
   "source": [
    "# code goes here"
   ]
  },
  {
   "cell_type": "markdown",
   "metadata": {},
   "source": [
    "2. newline - use character combination ```\\n```."
   ]
  },
  {
   "cell_type": "code",
   "execution_count": null,
   "metadata": {},
   "outputs": [],
   "source": [
    "# code goes here"
   ]
  },
  {
   "cell_type": "markdown",
   "metadata": {},
   "source": [
    "#### Stripping WhiteSpace"
   ]
  },
  {
   "cell_type": "markdown",
   "metadata": {},
   "source": [
    "Well, whitespaces are not always a bed of roses, sometimes they can be *thorny*!! Extra whitespaces can be confusing in your programs. \n",
    "\n",
    "'Moringa' and 'Moringa ' look pretty much the same, but to a program they are two different strings, as python interpreter will detect the extra space and considers it significant unless you tell it otherwise.\n",
    "\n",
    "* ```rstrip()``` - Ensure that no whitespaces exists at the right end of a string.\n",
    "* ```lstrip()``` - Ensure that no whitespaces exists at the left end of a string.\n",
    "* ```strip()``` - What do you think?"
   ]
  },
  {
   "cell_type": "code",
   "execution_count": null,
   "metadata": {},
   "outputs": [],
   "source": [
    "# code goes here"
   ]
  },
  {
   "cell_type": "markdown",
   "metadata": {},
   "source": [
    "#### Avoiding Syntax Errors with Strings"
   ]
  },
  {
   "cell_type": "markdown",
   "metadata": {},
   "source": [
    "* **Syntax error** occurs when python doesn't recognize a section of your program as valid python code."
   ]
  },
  {
   "cell_type": "code",
   "execution_count": null,
   "metadata": {},
   "outputs": [],
   "source": [
    "# code goes here."
   ]
  },
  {
   "cell_type": "markdown",
   "metadata": {},
   "source": [
    "### Knock yourself out!"
   ]
  },
  {
   "cell_type": "markdown",
   "metadata": {},
   "source": [
    "1. Use a variable to represent a person’s name, and print\n",
    "a message to that person. Your message should be simple, such as, “Hello Eric, would you like to learn some Python today?”\n",
    "2. Create another variable to represent a different person and print the same message to that person.\n",
    "3. Use a variable to represent a person’s name, and then print that person’s name in lowercase,uppercase, and title case.\n",
    "4. Find any quote and Print the\n",
    "quote and the name of its author. Your output should look something like the following, including the quotation marks:\n",
    "*Chambilecho wahenga, \"Chamlevi huliwa na mgema.\"*\n",
    "5. print out the following\n",
    "\n",
    "```\n",
    "the dataset has:\n",
    "    * 25 rows.\n",
    "    * 2 columns.\n",
    "```"
   ]
  },
  {
   "cell_type": "code",
   "execution_count": null,
   "metadata": {},
   "outputs": [],
   "source": [
    "# code goes here "
   ]
  }
 ],
 "metadata": {
  "language_info": {
   "name": "python"
  },
  "orig_nbformat": 4
 },
 "nbformat": 4,
 "nbformat_minor": 2
}
