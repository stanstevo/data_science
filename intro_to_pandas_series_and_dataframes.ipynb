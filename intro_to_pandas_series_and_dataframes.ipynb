{
  "cells": [
    {
      "cell_type": "markdown",
      "metadata": {
        "id": "view-in-github",
        "colab_type": "text"
      },
      "source": [
        "<a href=\"https://colab.research.google.com/github/stanstevo/data_science/blob/main/intro_to_pandas_series_and_dataframes.ipynb\" target=\"_parent\"><img src=\"https://colab.research.google.com/assets/colab-badge.svg\" alt=\"Open In Colab\"/></a>"
      ]
    },
    {
      "cell_type": "markdown",
      "metadata": {
        "id": "7SaIJAWQgIiW"
      },
      "source": [
        "# Introduction to Pandas Series and DataFrames"
      ]
    },
    {
      "cell_type": "markdown",
      "metadata": {
        "id": "npAhijJVgIiX"
      },
      "source": [
        "## Objectives"
      ]
    },
    {
      "cell_type": "markdown",
      "metadata": {
        "id": "0DHDxB63gIiY"
      },
      "source": [
        "* Understand Pandas Series and DataFrames\n",
        "* Creating Series and DataFrames\n",
        "* Basic Operations with Series\n",
        "* Exploring DataFrame Basics\n",
        "* Selecting Data from DataFrames\n",
        "* Applying Functions to Series and DataFrames"
      ]
    },
    {
      "cell_type": "markdown",
      "metadata": {
        "id": "g_piRXaigIiY"
      },
      "source": [
        "## Loading Libraries"
      ]
    },
    {
      "cell_type": "code",
      "execution_count": 1,
      "metadata": {
        "id": "y-d6wKiIgIiZ"
      },
      "outputs": [],
      "source": [
        "# numpys - for arithmetic operations and high-level mathematical functions to operate on arrays\n",
        "import numpy as np\n",
        "# pandas - for working with relational or labeled data\n",
        "import pandas as pd"
      ]
    },
    {
      "cell_type": "markdown",
      "metadata": {
        "id": "SRuBcEp_gIiZ"
      },
      "source": [
        "## What is a Pandas Series?"
      ]
    },
    {
      "cell_type": "markdown",
      "metadata": {
        "id": "mB8y4uFggIia"
      },
      "source": [
        "* **One-Dimensional** labeled Array capable of holding data on any type such as *intergers*, *string*, *float*, *python objects* etc.\n",
        "* A pandas series is like a column in a table.\n"
      ]
    },
    {
      "cell_type": "markdown",
      "metadata": {
        "id": "bMwXg6kFgIia"
      },
      "source": [
        "### Key features of a Pandas Series"
      ]
    },
    {
      "cell_type": "markdown",
      "metadata": {
        "id": "0_fYrFh5gIic"
      },
      "source": [
        "* **Homogeneous Data**: A Series Holds Data of a single data type(integer, float, string etc), ensuring homogeneity within the Series.\n",
        "* **Labeled Index**: Each element in a Series is associated with a label called an *index*. Having unique labels is a common practice, though not strictly required. The labels just need to be hashable types, ie they need to be used as keys in a dictionary. This index allows for easy and efficient data retrieval and manipulation.\n",
        "* **Vectorized Operations**: - Series support vectorized operations, ie you can apply operations to the entire series without the need for explicit loops.\n",
        "* **Alignment of Data**: - When performing operations on a Series, Pandas automatically aligns data based on index labels, which simplifies data manipulation.\n",
        "* **Creation**: - Can be created from a List, NumpyArrays, Dictionary, DataFrame slice and other data sources."
      ]
    },
    {
      "cell_type": "code",
      "execution_count": null,
      "metadata": {
        "id": "u4EqZZ-RgIid",
        "outputId": "22aa9514-fdd4-4fcd-85ae-66935ea1ae73"
      },
      "outputs": [
        {
          "data": {
            "text/plain": [
              "0    10\n",
              "1    20\n",
              "2    33\n",
              "3    42\n",
              "4    19\n",
              "5    30\n",
              "dtype: int64"
            ]
          },
          "execution_count": 4,
          "metadata": {},
          "output_type": "execute_result"
        }
      ],
      "source": [
        "# example of a series from a list\n",
        "marks = [10, 20, 33, 42, 19, 30]\n",
        "\n",
        "# series\n",
        "marks_series = pd.Series(marks)\n",
        "marks_series"
      ]
    },
    {
      "cell_type": "markdown",
      "metadata": {
        "id": "SV438vlvgIie"
      },
      "source": [
        "## Creating and Displaying"
      ]
    },
    {
      "cell_type": "code",
      "execution_count": null,
      "metadata": {
        "id": "z62NtKJPgIif",
        "outputId": "99ab0a81-6778-4147-9996-5f04bcdc5554"
      },
      "outputs": [
        {
          "data": {
            "text/plain": [
              "0    10.5\n",
              "1    11.2\n",
              "2    10.7\n",
              "3     9.9\n",
              "4    10.2\n",
              "Name: Student Marks, dtype: float64"
            ]
          },
          "execution_count": 5,
          "metadata": {},
          "output_type": "execute_result"
        }
      ],
      "source": [
        "# example 1 - Creating a series from a list\n",
        "data = [10.5, 11.2, 10.7, 9.9, 10.2]\n",
        "\n",
        "# series\n",
        "list_series = pd.Series(data, name=\"Student Marks\")\n",
        "list_series"
      ]
    },
    {
      "cell_type": "code",
      "execution_count": null,
      "metadata": {
        "id": "sCiywR5RgIig",
        "outputId": "3d285df8-8dca-42b4-861c-8a357d976244"
      },
      "outputs": [
        {
          "data": {
            "text/plain": [
              "pandas.core.series.Series"
            ]
          },
          "execution_count": 6,
          "metadata": {},
          "output_type": "execute_result"
        }
      ],
      "source": [
        "# data type\n",
        "type(list_series)"
      ]
    },
    {
      "cell_type": "code",
      "execution_count": null,
      "metadata": {
        "id": "u6c-Ki2ggIig",
        "outputId": "55303065-480a-4c4b-ffaa-f5673df405f7"
      },
      "outputs": [
        {
          "data": {
            "text/plain": [
              "numpy.ndarray"
            ]
          },
          "execution_count": 8,
          "metadata": {},
          "output_type": "execute_result"
        }
      ],
      "source": [
        "# example 2 - Creating a series from a NumPy Array\n",
        "data_arr = np.array(data) # created an array from a list\n",
        "\n",
        "type(data_arr)"
      ]
    },
    {
      "cell_type": "code",
      "execution_count": null,
      "metadata": {
        "id": "mwmWHDDqgIii",
        "outputId": "5a9f36ff-e403-4526-854d-1034ba90c988"
      },
      "outputs": [
        {
          "data": {
            "text/plain": [
              "0    10.5\n",
              "1    11.2\n",
              "2    10.7\n",
              "3     9.9\n",
              "4    10.2\n",
              "Name: Array Series, dtype: float64"
            ]
          },
          "execution_count": 9,
          "metadata": {},
          "output_type": "execute_result"
        }
      ],
      "source": [
        "# series from array\n",
        "arr_series = pd.Series(data_arr, name=\"Array Series\")\n",
        "arr_series"
      ]
    },
    {
      "cell_type": "code",
      "execution_count": null,
      "metadata": {
        "id": "WIAezVJSgIii",
        "outputId": "bd5cf38a-4277-4d89-ddf4-35f7cea5794a"
      },
      "outputs": [
        {
          "data": {
            "text/plain": [
              "dict"
            ]
          },
          "execution_count": 10,
          "metadata": {},
          "output_type": "execute_result"
        }
      ],
      "source": [
        "# example 3 - Series dictionary\n",
        "data_dict = {\n",
        "    \"Prof\" : 100,\n",
        "    \"Dominic\" : 250,\n",
        "    \"Carol\" : 300,\n",
        "    \"Eve\" : 450\n",
        "}\n",
        "\n",
        "type(data_dict)"
      ]
    },
    {
      "cell_type": "code",
      "execution_count": null,
      "metadata": {
        "id": "D1zV6gTjgIij",
        "outputId": "67d81963-646d-4569-eadf-f1e5ce932bd8"
      },
      "outputs": [
        {
          "data": {
            "text/plain": [
              "Prof       100\n",
              "Dominic    250\n",
              "Carol      300\n",
              "Eve        450\n",
              "Name: Sky Team, dtype: int64"
            ]
          },
          "execution_count": 11,
          "metadata": {},
          "output_type": "execute_result"
        }
      ],
      "source": [
        "# series from dict\n",
        "dict_series = pd.Series(data_dict, name=\"Sky Team\")\n",
        "dict_series"
      ]
    },
    {
      "cell_type": "code",
      "execution_count": null,
      "metadata": {
        "id": "Vj3dlSOWgIij",
        "outputId": "f4de47e0-c2f0-43a4-faca-04aa3db196ea"
      },
      "outputs": [
        {
          "data": {
            "text/plain": [
              "A    1000\n",
              "B    1500\n",
              "C    2000\n",
              "D    4000\n",
              "Name: Balances, dtype: int64"
            ]
          },
          "execution_count": 17,
          "metadata": {},
          "output_type": "execute_result"
        }
      ],
      "source": [
        "# series with custom index labels\n",
        "balance = [1000, 1500, 2000, 4000] # data to store in the series\n",
        "custom_labels = ['A', 'B', 'C', 'D'] # custom indexes\n",
        "\n",
        "custom_label_series = pd.Series(data = balance, index=custom_labels, name='Balances')\n",
        "custom_label_series"
      ]
    },
    {
      "cell_type": "markdown",
      "metadata": {
        "id": "UbmwmqvDgIik"
      },
      "source": [
        "## Basic Operations With Series"
      ]
    },
    {
      "cell_type": "code",
      "execution_count": null,
      "metadata": {
        "id": "KWn0Rp5egIik",
        "outputId": "b23a8821-0854-4a2d-b1f3-499b4e2476a7"
      },
      "outputs": [
        {
          "data": {
            "text/plain": [
              "0    10.5\n",
              "1    11.2\n",
              "2    10.7\n",
              "3     9.9\n",
              "4    10.2\n",
              "Name: Array Series, dtype: float64"
            ]
          },
          "execution_count": 18,
          "metadata": {},
          "output_type": "execute_result"
        }
      ],
      "source": [
        "arr_series"
      ]
    },
    {
      "cell_type": "code",
      "execution_count": null,
      "metadata": {
        "id": "bwBE4MdXgIik",
        "outputId": "d777d48a-5234-4b90-af02-525e7b76d2e8"
      },
      "outputs": [
        {
          "name": "stdout",
          "output_type": "stream",
          "text": [
            "9.9\n"
          ]
        }
      ],
      "source": [
        "# accessing elements in a series\n",
        "print(arr_series[3])"
      ]
    },
    {
      "cell_type": "code",
      "execution_count": null,
      "metadata": {
        "id": "Up85yUJVgIil",
        "outputId": "c2853f64-78a7-4116-dc55-93d58d18a8e1"
      },
      "outputs": [
        {
          "data": {
            "text/plain": [
              "Prof       100\n",
              "Dominic    250\n",
              "Carol      300\n",
              "Eve        450\n",
              "Name: Sky Team, dtype: int64"
            ]
          },
          "execution_count": 20,
          "metadata": {},
          "output_type": "execute_result"
        }
      ],
      "source": [
        "dict_series"
      ]
    },
    {
      "cell_type": "code",
      "execution_count": null,
      "metadata": {
        "id": "6YENsPEWgIil",
        "outputId": "32031181-fb0b-4722-825e-a53898f3bb46"
      },
      "outputs": [
        {
          "name": "stdout",
          "output_type": "stream",
          "text": [
            "300\n"
          ]
        }
      ],
      "source": [
        "# accessing elements in a series\n",
        "print(dict_series['Carol'])"
      ]
    },
    {
      "cell_type": "code",
      "execution_count": null,
      "metadata": {
        "id": "DCVRK3_PgIim",
        "outputId": "fd1a7886-c3e1-4816-a0c3-7d32bd73e6c0"
      },
      "outputs": [
        {
          "data": {
            "text/plain": [
              "A    1000\n",
              "B    1500\n",
              "C    2000\n",
              "D    4000\n",
              "Name: Balances, dtype: int64"
            ]
          },
          "execution_count": 22,
          "metadata": {},
          "output_type": "execute_result"
        }
      ],
      "source": [
        "custom_label_series"
      ]
    },
    {
      "cell_type": "code",
      "execution_count": null,
      "metadata": {
        "id": "DTQN0owbgIim",
        "outputId": "ac500d65-73a6-4688-f912-114f3dff2fcc"
      },
      "outputs": [
        {
          "name": "stdout",
          "output_type": "stream",
          "text": [
            "B    1500\n",
            "C    2000\n",
            "D    4000\n",
            "Name: Balances, dtype: int64\n"
          ]
        }
      ],
      "source": [
        "# accessing elemets in a series\n",
        "print(custom_label_series['B':'D'])"
      ]
    },
    {
      "cell_type": "code",
      "execution_count": null,
      "metadata": {
        "id": "d1-wlOvXgIim",
        "outputId": "fa76ef27-ada0-4e13-cc31-93bb0fac11dd"
      },
      "outputs": [
        {
          "data": {
            "text/plain": [
              "A    10.0\n",
              "B    15.0\n",
              "C    20.0\n",
              "D    40.0\n",
              "Name: Balances, dtype: float64"
            ]
          },
          "execution_count": 25,
          "metadata": {},
          "output_type": "execute_result"
        }
      ],
      "source": [
        "# arithmetic operations\n",
        "# convert balances into percentages\n",
        "x = custom_label_series / 100\n",
        "x"
      ]
    },
    {
      "cell_type": "code",
      "execution_count": null,
      "metadata": {
        "id": "oUIPQQK1gIim",
        "outputId": "83c74f48-5780-4df1-8b3e-3e3ee57eeb95"
      },
      "outputs": [
        {
          "data": {
            "text/plain": [
              "B    15.0\n",
              "C    20.0\n",
              "D    40.0\n",
              "Name: Balances, dtype: float64"
            ]
          },
          "execution_count": 26,
          "metadata": {},
          "output_type": "execute_result"
        }
      ],
      "source": [
        "# filter elements\n",
        "x_filtered = x[x >= 15]\n",
        "x_filtered"
      ]
    },
    {
      "cell_type": "code",
      "execution_count": null,
      "metadata": {
        "id": "SVl4rkapgIim",
        "outputId": "4a73da49-8070-4239-d7ad-c4368b3151fa"
      },
      "outputs": [
        {
          "data": {
            "text/plain": [
              "A    10.0\n",
              "B    15.0\n",
              "C    20.0\n",
              "D    40.0\n",
              "Name: Balances, dtype: float64"
            ]
          },
          "execution_count": 28,
          "metadata": {},
          "output_type": "execute_result"
        }
      ],
      "source": [
        "# basic summary statistics\n",
        "x"
      ]
    },
    {
      "cell_type": "code",
      "execution_count": null,
      "metadata": {
        "id": "E-MefFaOgIin",
        "outputId": "85055ae0-b47e-4013-a44e-1375b0f8ad84"
      },
      "outputs": [
        {
          "name": "stdout",
          "output_type": "stream",
          "text": [
            "21.25\n"
          ]
        }
      ],
      "source": [
        "# mean\n",
        "mean = x.mean()\n",
        "print(mean)"
      ]
    },
    {
      "cell_type": "code",
      "execution_count": null,
      "metadata": {
        "id": "QFX98Im-gIin",
        "outputId": "affc43a6-9bff-4925-9ab4-a16e8979ef36"
      },
      "outputs": [
        {
          "name": "stdout",
          "output_type": "stream",
          "text": [
            "13.149778198382917\n"
          ]
        }
      ],
      "source": [
        "# std\n",
        "std = x.std()\n",
        "print(std)"
      ]
    },
    {
      "cell_type": "code",
      "execution_count": null,
      "metadata": {
        "id": "RE-JgnGBgIin",
        "outputId": "673f5b42-60ab-48f7-b0dc-913c8124e1c7"
      },
      "outputs": [
        {
          "name": "stdout",
          "output_type": "stream",
          "text": [
            "40.0\n"
          ]
        }
      ],
      "source": [
        "# max\n",
        "max = x.max()\n",
        "print(max)"
      ]
    },
    {
      "cell_type": "markdown",
      "metadata": {
        "id": "N1tswmnAgIin"
      },
      "source": [
        "## Applying Functions to a Series"
      ]
    },
    {
      "cell_type": "markdown",
      "metadata": {
        "id": "n3AY9b5lgIin"
      },
      "source": [
        "### Lambda Functions"
      ]
    },
    {
      "cell_type": "markdown",
      "metadata": {
        "id": "6P44yqOTgIio"
      },
      "source": [
        "* Small anonymous function that is not bound to an identifier.\n",
        "* Similar to user defined functions but without a name.\n",
        "* It's simple and straightfoward, requiring only the argument(s) and expression, alongside the keyword `lambda`.\n",
        "* They require only one line of code.\n",
        "\n",
        "```\n",
        "def func_name(parameters):\n",
        "    code block\n",
        "    \n",
        "    return return_value\n",
        "```\n",
        "\n",
        "`func = lamda parameters: return_value`\n",
        "\n",
        "* `lambda` : Keyword that indicates definition of a lambda function.\n",
        "* `parameters`: The input parameters that the lambda function will take.\n",
        "* `return_value`: A single expression that defines the compuation the lambda function performs and its return value"
      ]
    },
    {
      "cell_type": "code",
      "execution_count": null,
      "metadata": {
        "id": "FhnJbFIMgIio"
      },
      "outputs": [],
      "source": [
        "# lets compare the two\n"
      ]
    },
    {
      "cell_type": "code",
      "execution_count": 4,
      "metadata": {
        "colab": {
          "base_uri": "https://localhost:8080/"
        },
        "id": "bg3zRbkngIio",
        "outputId": "09b67684-366f-4330-cd0e-f4b25401c9d2"
      },
      "outputs": [
        {
          "output_type": "execute_result",
          "data": {
            "text/plain": [
              "6"
            ]
          },
          "metadata": {},
          "execution_count": 4
        }
      ],
      "source": [
        "# lamda function\n",
        "double = lambda x: x*2\n",
        "double(3)"
      ]
    },
    {
      "cell_type": "code",
      "source": [
        "even = lambda x: x % 2 == 0\n",
        "even(4)"
      ],
      "metadata": {
        "colab": {
          "base_uri": "https://localhost:8080/"
        },
        "id": "BMAFo2LYrRm4",
        "outputId": "80f870c9-75dd-439f-8639-1ee406084b0e"
      },
      "execution_count": 8,
      "outputs": [
        {
          "output_type": "execute_result",
          "data": {
            "text/plain": [
              "True"
            ]
          },
          "metadata": {},
          "execution_count": 8
        }
      ]
    },
    {
      "cell_type": "markdown",
      "metadata": {
        "id": "hpZ940PZgIio"
      },
      "source": [
        "### Generate Random Numbers"
      ]
    },
    {
      "cell_type": "markdown",
      "metadata": {
        "id": "r_Cy3rf9gIio"
      },
      "source": [
        "* Using `NumPy` library to generate random Numbers.\n"
      ]
    },
    {
      "cell_type": "code",
      "execution_count": 18,
      "metadata": {
        "colab": {
          "base_uri": "https://localhost:8080/"
        },
        "id": "FmLnNFQPgIio",
        "outputId": "c9e9ee7f-8820-4741-ddcb-8a5674a25b9c"
      },
      "outputs": [
        {
          "output_type": "execute_result",
          "data": {
            "text/plain": [
              "array([4, 6, 5, 2, 3])"
            ]
          },
          "metadata": {},
          "execution_count": 18
        }
      ],
      "source": [
        "# generate random numbers\n",
        "rand_num = np.random.randint(1, 10, 5)\n",
        "rand_num"
      ]
    },
    {
      "cell_type": "code",
      "execution_count": null,
      "metadata": {
        "id": "hM-bEhlLgIip"
      },
      "outputs": [],
      "source": [
        "# create a series\n",
        "df = pd.Series(rand_num)"
      ]
    },
    {
      "cell_type": "code",
      "execution_count": 20,
      "metadata": {
        "colab": {
          "base_uri": "https://localhost:8080/"
        },
        "id": "vUDr1kjqgIip",
        "outputId": "760b2f4f-9322-4921-bdd6-1df0be094abe"
      },
      "outputs": [
        {
          "output_type": "execute_result",
          "data": {
            "text/plain": [
              "0    4\n",
              "1    6\n",
              "2    5\n",
              "3    2\n",
              "4    3\n",
              "dtype: int64"
            ]
          },
          "metadata": {},
          "execution_count": 20
        }
      ],
      "source": [
        "# display the first five rows of the series\n",
        "df.head(5)"
      ]
    },
    {
      "cell_type": "code",
      "execution_count": null,
      "metadata": {
        "id": "Et-AtE3CgIip"
      },
      "outputs": [],
      "source": [
        "# display last five rows\n",
        "df.head(5)"
      ]
    },
    {
      "cell_type": "markdown",
      "metadata": {
        "id": "pa9dNi5QgIiq"
      },
      "source": [
        "### Using the `apply()` Function in a Series\n",
        "\n",
        "* It's a powerful way to transform and analyze the data within the series.\n",
        "* Above we have generate a series of random numbers, and created a function called `square` that takes in an int, squares it and return the value. Lets apply that function to the series."
      ]
    },
    {
      "cell_type": "code",
      "execution_count": 21,
      "metadata": {
        "id": "xzuE5u7MgIiq"
      },
      "outputs": [],
      "source": [
        "# square the series random numbers\n",
        "square = lambda x: x**2"
      ]
    },
    {
      "cell_type": "code",
      "source": [],
      "metadata": {
        "id": "tM7JwIdE7OuV"
      },
      "execution_count": null,
      "outputs": []
    },
    {
      "cell_type": "code",
      "execution_count": null,
      "metadata": {
        "id": "jvDH6nLWgIiq"
      },
      "outputs": [],
      "source": [
        "# use .rename to rename the series"
      ]
    },
    {
      "cell_type": "markdown",
      "metadata": {
        "id": "0BlWb_MIgIir"
      },
      "source": [
        "### `lambda` function with `apply()`"
      ]
    },
    {
      "cell_type": "code",
      "execution_count": null,
      "metadata": {
        "id": "tU2EZ8ZVgIis"
      },
      "outputs": [],
      "source": [
        "# Cube the numbers using lambda and apply\n"
      ]
    },
    {
      "cell_type": "code",
      "execution_count": null,
      "metadata": {
        "id": "Kpl2eelUgIis"
      },
      "outputs": [],
      "source": [
        "# rename the series"
      ]
    },
    {
      "cell_type": "markdown",
      "metadata": {
        "id": "pwjgxZUsgIit"
      },
      "source": [
        "### Using the `map()` Function in a series"
      ]
    },
    {
      "cell_type": "markdown",
      "metadata": {
        "id": "PQ8GPmeNgIit"
      },
      "source": [
        "* Used to substitute each value in a Series with another value creating a convenient way to transform the values in a Series."
      ]
    },
    {
      "cell_type": "code",
      "execution_count": null,
      "metadata": {
        "id": "1AYc_2aFgIit"
      },
      "outputs": [],
      "source": []
    },
    {
      "cell_type": "code",
      "execution_count": null,
      "metadata": {
        "id": "ds3UCdTwgIit"
      },
      "outputs": [],
      "source": [
        "# map our random numbers as pass or fail\n"
      ]
    },
    {
      "cell_type": "markdown",
      "metadata": {
        "id": "jfHiuyNXgIit"
      },
      "source": [
        "### `lambda` function with `map()`"
      ]
    },
    {
      "cell_type": "code",
      "execution_count": null,
      "metadata": {
        "id": "oLouRUrjgIiu"
      },
      "outputs": [],
      "source": [
        "# use lamda function with map() to double each number\n"
      ]
    },
    {
      "cell_type": "code",
      "execution_count": null,
      "metadata": {
        "id": "ubw4ZIH6gIiu"
      },
      "outputs": [],
      "source": [
        "# rename the series"
      ]
    },
    {
      "cell_type": "markdown",
      "metadata": {
        "id": "yfRfpHRjgIiu"
      },
      "source": [
        "### `lamda` function with Conditional Statement"
      ]
    },
    {
      "cell_type": "code",
      "execution_count": null,
      "metadata": {
        "id": "1FpGwifLgIiu"
      },
      "outputs": [],
      "source": [
        "# are the random numbers even or odd\n"
      ]
    },
    {
      "cell_type": "code",
      "execution_count": null,
      "metadata": {
        "id": "eqTA6wp-gIiu"
      },
      "outputs": [],
      "source": [
        "# rename the series"
      ]
    },
    {
      "cell_type": "markdown",
      "metadata": {
        "id": "haMlxcSBgIiv"
      },
      "source": [
        "## Series to DataFrame"
      ]
    },
    {
      "cell_type": "markdown",
      "metadata": {
        "id": "NvAET6C8gIiv"
      },
      "source": [
        "* `if` a **Series** is a *table* with a single column, `elif` a **DataFrame** is a *table* with two or more columns."
      ]
    },
    {
      "cell_type": "code",
      "execution_count": null,
      "metadata": {
        "id": "kvl7PbMOgIiv"
      },
      "outputs": [],
      "source": [
        "# lets convert all the series we created into a dataframe\n"
      ]
    },
    {
      "cell_type": "markdown",
      "metadata": {
        "id": "b5sorcvGgIiv"
      },
      "source": [
        "## Knock Yourself Out!"
      ]
    },
    {
      "cell_type": "markdown",
      "metadata": {
        "id": "1WD05qLrgIiv"
      },
      "source": [
        "You work as a real estate agent at *MoringaHome Realty*. To assist your clients in making informed decisions about property investment, you decide to analyze property data using Pandas.\n",
        "1. Generate 120 random numbers between  Ksh 4000 and Ksh 20,000 using numpy to represent the prices of the houses.\n",
        "2. Display the first and last 7 houses.\n",
        "3. Create a function that will take in the price of the house and return the category of that house, eg Suburb. The category is of your own series.\n",
        "4. Apply the function created above to the series.\n",
        "6. Apply a lambda function to increase the property prices by 10% due to the new tax laws.\n",
        "7. Apply a custom function to increase the property prices by and additional Ksh 250 for garbage.\n",
        "8. Create a new Series for each step and Finally Combine them all into a DataFrame name 'Moringa_property'."
      ]
    },
    {
      "cell_type": "markdown",
      "metadata": {
        "id": "OdtKOi8KgIiv"
      },
      "source": []
    },
    {
      "cell_type": "code",
      "source": [
        "house_prices =np.random.randint(4000, 20000, 120)"
      ],
      "metadata": {
        "id": "UqcJwGhSgNO_"
      },
      "execution_count": 139,
      "outputs": []
    },
    {
      "cell_type": "code",
      "source": [
        "df = pd.Series(house_prices, name = 'prices')"
      ],
      "metadata": {
        "id": "SCPX_7h-ho2B"
      },
      "execution_count": 140,
      "outputs": []
    },
    {
      "cell_type": "code",
      "source": [
        "def categorizer(price):\n",
        "  if 4000 <= price < 8000:\n",
        "    return \"Slums\"\n",
        "  elif 8000 <= price < 16000 :\n",
        "    return \"Suburbs\"\n",
        "  elif price > 16000:\n",
        "    return \"Upscale\"\n",
        "  else:\n",
        "    return \"Price provided is not valid\""
      ],
      "metadata": {
        "id": "r9WwGPENAwKN"
      },
      "execution_count": 141,
      "outputs": []
    },
    {
      "cell_type": "code",
      "source": [
        "category_df = df.apply(categorizer)\n",
        "category_df.rename('category', inplace=True)"
      ],
      "metadata": {
        "id": "IqHlb63F82pb"
      },
      "execution_count": null,
      "outputs": []
    },
    {
      "cell_type": "markdown",
      "source": [
        "Apply a lambda function to increase the property prices by 10% due to the new tax laws."
      ],
      "metadata": {
        "id": "_yzyFr9VUSfv"
      }
    },
    {
      "cell_type": "code",
      "source": [
        "house_tax = lambda x: x * 1.1"
      ],
      "metadata": {
        "id": "W0Vr1eOXZgTf"
      },
      "execution_count": 143,
      "outputs": []
    },
    {
      "cell_type": "code",
      "source": [
        "new_prices = df.apply(house_tax)\n",
        "new_prices.rename('price and tax', inplace=True)"
      ],
      "metadata": {
        "id": "YSTWPu3MUnfU"
      },
      "execution_count": null,
      "outputs": []
    },
    {
      "cell_type": "markdown",
      "source": [
        "\n",
        "Apply a custom function to increase the property prices by and additional Ksh 250 for garbage."
      ],
      "metadata": {
        "id": "iGS16QFiaAVJ"
      }
    },
    {
      "cell_type": "code",
      "source": [
        "def garbage_fees(n):\n",
        "  return n + 250"
      ],
      "metadata": {
        "id": "ehotsavNZ_Fm"
      },
      "execution_count": 145,
      "outputs": []
    },
    {
      "cell_type": "code",
      "source": [
        "full_price = new_prices.apply(garbage_fees)\n"
      ],
      "metadata": {
        "id": "vgz_JRn4eh5-"
      },
      "execution_count": 146,
      "outputs": []
    },
    {
      "cell_type": "code",
      "source": [
        "full_price.rename('price and garbage', inplace=True)"
      ],
      "metadata": {
        "id": "GgiuDKTUkwLJ"
      },
      "execution_count": null,
      "outputs": []
    },
    {
      "cell_type": "markdown",
      "source": [
        "Create a new Series for each step and Finally Combine them all into a DataFrame name 'Moringa_property'."
      ],
      "metadata": {
        "id": "4D03knNegVsI"
      }
    },
    {
      "cell_type": "code",
      "source": [
        "moringa_property = pd.concat([df, new_prices, full_price, category_df], axis = 1)"
      ],
      "metadata": {
        "id": "i7p7n0aggT6d"
      },
      "execution_count": 148,
      "outputs": []
    }
  ],
  "metadata": {
    "kernelspec": {
      "display_name": "Python 3",
      "language": "python",
      "name": "python3"
    },
    "language_info": {
      "codemirror_mode": {
        "name": "ipython",
        "version": 3
      },
      "file_extension": ".py",
      "mimetype": "text/x-python",
      "name": "python",
      "nbconvert_exporter": "python",
      "pygments_lexer": "ipython3",
      "version": "3.11.3"
    },
    "orig_nbformat": 4,
    "colab": {
      "provenance": [],
      "include_colab_link": true
    }
  },
  "nbformat": 4,
  "nbformat_minor": 0
}