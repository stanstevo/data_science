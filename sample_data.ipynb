{
  "cells": [
    {
      "cell_type": "code",
      "execution_count": 3,
      "id": "e1cc8931-3be0-416a-bea3-f8dea2c06ecb",
      "metadata": {
        "id": "e1cc8931-3be0-416a-bea3-f8dea2c06ecb",
        "tags": []
      },
      "outputs": [],
      "source": [
        "# Import necessary libraries for data analysis\n",
        "import pandas as pd\n",
        "import numpy as np"
      ]
    },
    {
      "cell_type": "code",
      "execution_count": 4,
      "id": "24480eb8-8dfe-40aa-a44b-86d53613c9fe",
      "metadata": {
        "colab": {
          "base_uri": "https://localhost:8080/"
        },
        "id": "24480eb8-8dfe-40aa-a44b-86d53613c9fe",
        "outputId": "6841e7e7-2b35-4c8f-e32a-80652493658b",
        "tags": []
      },
      "outputs": [
        {
          "data": {
            "text/plain": [
              "38"
            ]
          },
          "execution_count": 4,
          "metadata": {},
          "output_type": "execute_result"
        }
      ],
      "source": [
        "# Define column names for the DataFrame\n",
        "col_names = [\"empty\",\"T-Day\",\"T-Month\",\"T-Year\", \"Code\", \"No\", \"R-Day\",\"R-Month\",\"R-Year\",\n",
        "         \"Origin Court\", \"Origin Code\", \"Origin No\", \"Origin Year\", \"Specific Case Type\",\n",
        "         \"Judge 1\", \"Judge 2\", \"Judge 3\", \"Judge 4\", \"Judge 5\", \"Judge 6\", \"Judge 7\",\n",
        "         \"Case coming for\", \"Case OutCome\", \"Reason of adjournment\", \"N-Day\",\"N-Month\",\n",
        "         \"N-Year\",\"P-M\", \"P-F\",\"P-Org.\", \"D-M\", \"D-F\", \"D-Org.\", \"Legal Rep\", \"Witness-P\", \"Witness-D\",\n",
        "         \"Crim-Custody\",\"Other Details\"]\n",
        "# Get the length of the column names list\n",
        "len(col_names)"
      ]
    },
    {
      "cell_type": "code",
      "execution_count": null,
      "id": "3c8271d9-a867-41bd-9644-ef159706a85f",
      "metadata": {
        "id": "3c8271d9-a867-41bd-9644-ef159706a85f",
        "tags": []
      },
      "outputs": [],
      "source": [
        "# Load data from an Excel file into a DataFrame using specified column names\n",
        "sample_data = pd.read_excel(\"Data/Sample Data.xlsx\", names = col_names)"
      ]
    },
    {
      "cell_type": "code",
      "execution_count": null,
      "id": "49ccd505-4fd8-422a-8041-f57329648e09",
      "metadata": {
        "id": "49ccd505-4fd8-422a-8041-f57329648e09",
        "tags": []
      },
      "outputs": [],
      "source": [
        "# Drop the initial rows that don't contain data\n",
        "sample_data.drop(index=[0, 1, 2, 3], inplace = True)"
      ]
    },
    {
      "cell_type": "code",
      "execution_count": null,
      "id": "ec2954f9-9fc0-426d-9451-2857c7fdf4e2",
      "metadata": {
        "id": "ec2954f9-9fc0-426d-9451-2857c7fdf4e2",
        "tags": []
      },
      "outputs": [],
      "source": [
        "# Reset the index of the DataFrame\n",
        "sample_data.reset_index(drop = True, inplace = True)"
      ]
    },
    {
      "cell_type": "code",
      "execution_count": null,
      "id": "f0c06fb6-36c3-459c-8905-d72a8c921aee",
      "metadata": {
        "id": "f0c06fb6-36c3-459c-8905-d72a8c921aee",
        "tags": []
      },
      "outputs": [],
      "source": [
        "# Drop the \"empty\" column\n",
        "sample_data.drop(columns=[\"empty\"], inplace=True)"
      ]
    },
    {
      "cell_type": "code",
      "execution_count": null,
      "id": "28fac224-89a1-42b0-9acb-53b2f4ef8bed",
      "metadata": {
        "id": "28fac224-89a1-42b0-9acb-53b2f4ef8bed",
        "tags": []
      },
      "outputs": [],
      "source": [
        "# Print the shape (dimensions) of the DataFrame\n",
        "sample_data.shape"
      ]
    },
    {
      "cell_type": "code",
      "execution_count": null,
      "id": "4e3586ab-2430-42ec-8d2c-208d771ec659",
      "metadata": {
        "id": "4e3586ab-2430-42ec-8d2c-208d771ec659",
        "tags": []
      },
      "outputs": [],
      "source": [
        "# Display information about the DataFrame, including data types and non-null counts\n",
        "sample_data.info()"
      ]
    },
    {
      "cell_type": "code",
      "execution_count": null,
      "id": "35c2b4e7-a1c9-4b7e-bfa0-771469e61bc5",
      "metadata": {
        "id": "35c2b4e7-a1c9-4b7e-bfa0-771469e61bc5",
        "tags": []
      },
      "outputs": [],
      "source": [
        "# Define a function named 'duplicated_data' that takes a pandas DataFrame 'data' as input.\n",
        "def duplicated_data(data):\n",
        "\n",
        "    # Check if there are any duplicated rows in the DataFrame.\n",
        "    if data.duplicated(subset=None, keep=\"first\").any() == True:\n",
        "\n",
        "        # Count the number of duplicated rows and store it in 'duplicated_count'.\n",
        "        duplicated_count = data.duplicated().value_counts()\n",
        "\n",
        "        # Get the number of duplicates (True value) and store it in 'num_duplicates'.\n",
        "        num_duplicates = duplicated_count[True]\n",
        "\n",
        "        # Print the number of duplicates found.\n",
        "        print(f\"{num_duplicates} duplicates found.\")\n",
        "\n",
        "        # Remove duplicates from the DataFrame while keeping the first occurrence.\n",
        "        data.drop_duplicates(subset=None, keep=\"first\", inplace=True)\n",
        "\n",
        "        # Print a message indicating that duplicates have been removed.\n",
        "        print(\"Duplicates removed.\")\n",
        "\n",
        "        # Reset the index of the DataFrame to be sequential.\n",
        "        data.reset_index(drop=True, inplace=True)\n",
        "\n",
        "        # Return the cleaned DataFrame without duplicates.\n",
        "        return data\n",
        "    else:\n",
        "        # If no duplicates are found, print a message indicating so and return the original DataFrame.\n",
        "        print(\"No duplicates found.\")\n",
        "        return data\n",
        "\n",
        "# Assuming 'sample_data' is a pandas DataFrame, call the 'duplicated_data' function to process it.\n",
        "sample_data = duplicated_data(sample_data)\n"
      ]
    },
    {
      "cell_type": "code",
      "execution_count": null,
      "id": "4d38ca88-bc1f-4b4b-9d02-e7aca09c7724",
      "metadata": {
        "id": "4d38ca88-bc1f-4b4b-9d02-e7aca09c7724",
        "tags": []
      },
      "outputs": [],
      "source": [
        "def missing_values(data):\n",
        "    # Calculate the total count of missing values for each column and sort them in descending order.\n",
        "    miss = data.isnull().sum().sort_values(ascending=False)\n",
        "\n",
        "    # Calculate the percentage of missing values for each column and round the result to three decimal places.\n",
        "    percentage_miss = (np.round((data.isnull().sum() / len(data)) * 100, 3)).sort_values(ascending=False)\n",
        "\n",
        "    # Create a DataFrame called 'missing' to store the missing values count and percentage.\n",
        "    missing = pd.DataFrame({\"Missing Values\": miss, \"Percentage(%)\": percentage_miss})\n",
        "\n",
        "    # Drop rows (columns) where the percentage of missing values is 0.\n",
        "    missing.drop(missing[missing[\"Percentage(%)\"] == 0].index, inplace=True)\n",
        "\n",
        "    # Return the 'missing' DataFrame containing information about missing values.\n",
        "    return missing\n",
        "missing_data = missing_values(sample_data)\n",
        "missing_data"
      ]
    },
    {
      "cell_type": "code",
      "execution_count": null,
      "id": "a7bcceff-60dd-4603-b3df-6a1dbe6c2d12",
      "metadata": {
        "id": "a7bcceff-60dd-4603-b3df-6a1dbe6c2d12",
        "tags": []
      },
      "outputs": [],
      "source": [
        "# Define a function named 'remove_columns_with_100_percent_missing' that takes a DataFrame 'data' as input.\n",
        "def remove_columns_with_100_percent_missing(data):\n",
        "    # Call the 'missing_values' function to calculate missing values for each column in 'data'.\n",
        "    missing_data = missing_values(data)\n",
        "\n",
        "    # Filter 'missing_data' to get the column names with 100% missing values (Percentage = 100%).\n",
        "    columns_to_remove = missing_data[missing_data[\"Percentage(%)\"] == 100].index\n",
        "\n",
        "    # Remove the columns with 100% missing values from the 'data' DataFrame.\n",
        "    data.drop(columns=columns_to_remove, inplace=True)\n",
        "\n",
        "    # Return the modified 'data' DataFrame with 100% missing value columns removed.\n",
        "    return data\n",
        "\n",
        "# Apply the 'remove_columns_with_100_percent_missing' function to the 'sample_data' DataFrame.\n",
        "# This removes columns with 100% missing values from 'sample_data'.\n",
        "sample_data = remove_columns_with_100_percent_missing(sample_data)\n"
      ]
    },
    {
      "cell_type": "code",
      "execution_count": null,
      "id": "748ee66d-ce13-4ef8-9042-61e8dc3a46ee",
      "metadata": {
        "id": "748ee66d-ce13-4ef8-9042-61e8dc3a46ee",
        "tags": []
      },
      "outputs": [],
      "source": [
        "#Applying the missing values function to the sample_data variable\n",
        "missing_data = missing_values(sample_data)\n",
        "missing_data"
      ]
    },
    {
      "cell_type": "code",
      "execution_count": 8,
      "id": "0ec2f4ef-baaa-4d95-bbbd-300638492ca4",
      "metadata": {
        "id": "0ec2f4ef-baaa-4d95-bbbd-300638492ca4",
        "tags": []
      },
      "outputs": [],
      "source": [
        "def datetime(data, new_col, day, month, year, date_format, index):\n",
        "    # Combine the day, month, and year columns into a single string column in 'data'.\n",
        "    data[new_col] = data[day].astype(str) + \"-\" + data[month] + \"-\" + data[year].astype(str)\n",
        "\n",
        "    # Convert the newly created string column to datetime format, using the specified date format.\n",
        "    # Any parsing errors will be coerced to NaT (Not-a-Time).\n",
        "    data[new_col] = pd.to_datetime(data[new_col], format=date_format, errors=\"coerce\")\n",
        "\n",
        "    # Insert the new datetime column at the specified 'index' position and move the existing column with the same name.\n",
        "    data.insert(index, new_col, data.pop(new_col))\n",
        "\n",
        "    # Drop the day, month, and year columns from 'data', as they are no longer needed.\n",
        "    data.drop(columns=[day, month, year], inplace=True)\n",
        "\n",
        "    # Return the modified 'data' DataFrame.\n",
        "    return data\n"
      ]
    },
    {
      "cell_type": "code",
      "execution_count": null,
      "id": "1a96abb0-c9d4-4aa5-9823-e2524a75d834",
      "metadata": {
        "id": "1a96abb0-c9d4-4aa5-9823-e2524a75d834",
        "tags": []
      },
      "outputs": [],
      "source": [
        "# Apply the 'datetime' function to create datetime columns for \"Today's Date\"\n",
        "sample_data = datetime(sample_data, \"Today's Date\", 'T-Day', 'T-Month', 'T-Year', \"%d-%b-%Y\", 0)"
      ]
    },
    {
      "cell_type": "code",
      "execution_count": null,
      "id": "fa41fde9-c380-4895-ada8-ef6afa65db38",
      "metadata": {
        "id": "fa41fde9-c380-4895-ada8-ef6afa65db38",
        "tags": []
      },
      "outputs": [],
      "source": [
        "# Apply the 'datetime' function to create datetime columns for \"Registration Date\"\n",
        "sample_data = datetime(sample_data, \"Registration Date\", \"R-Day\", \"R-Month\", \"R-Year\", \"%d-%b-%Y\", 3)"
      ]
    },
    {
      "cell_type": "code",
      "execution_count": null,
      "id": "64d98ec9-a39b-49d4-9d08-7f3325fb5306",
      "metadata": {
        "id": "64d98ec9-a39b-49d4-9d08-7f3325fb5306",
        "tags": []
      },
      "outputs": [],
      "source": [
        "# Apply the 'datetime' function to create datetime columns for \"Next Court Date\"\n",
        "sample_data = datetime(sample_data, \"Next Court Date\", \"N-Day\", \"N-Month\", \"N-Year\", \"%d-%b-%Y\", 9)"
      ]
    },
    {
      "cell_type": "code",
      "execution_count": null,
      "id": "47aefe6f-4919-4201-b6ea-4eb07bb6c2ec",
      "metadata": {
        "id": "47aefe6f-4919-4201-b6ea-4eb07bb6c2ec",
        "tags": []
      },
      "outputs": [],
      "source": [
        "# Check the data types of the newly created datetime columns\n",
        "sample_data.dtypes"
      ]
    },
    {
      "cell_type": "code",
      "execution_count": null,
      "id": "4fbd4a4c-1954-44ee-a867-b829c6df1dea",
      "metadata": {
        "id": "4fbd4a4c-1954-44ee-a867-b829c6df1dea",
        "tags": []
      },
      "outputs": [],
      "source": [
        "# Display value counts for the \"Case coming for\" column\n",
        "sample_data[\"Case coming for\"].value_counts()"
      ]
    }
  ],
  "metadata": {
    "colab": {
      "provenance": []
    },
    "kernelspec": {
      "display_name": "Python 3 (ipykernel)",
      "language": "python",
      "name": "python3"
    },
    "language_info": {
      "codemirror_mode": {
        "name": "ipython",
        "version": 3
      },
      "file_extension": ".py",
      "mimetype": "text/x-python",
      "name": "python",
      "nbconvert_exporter": "python",
      "pygments_lexer": "ipython3",
      "version": "3.11.4"
    }
  },
  "nbformat": 4,
  "nbformat_minor": 5
}
